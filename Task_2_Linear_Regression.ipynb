{
 "cells": [
  {
   "cell_type": "code",
   "execution_count": 1,
   "metadata": {},
   "outputs": [],
   "source": [
    "#Importing required libraries\n",
    "import pandas as pd\n",
    "import numpy as np\n",
    "import time\n",
    "from sklearn.model_selection import GridSearchCV, train_test_split, cross_val_score\n",
    "from sklearn.linear_model import LinearRegression\n",
    "from sklearn.metrics import mean_squared_error, r2_score, mean_absolute_error,explained_variance_score\n"
   ]
  },
  {
   "cell_type": "code",
   "execution_count": 2,
   "metadata": {},
   "outputs": [],
   "source": [
    "#Loading dataset\n",
    "df = pd.read_csv('processed_data.csv')"
   ]
  },
  {
   "cell_type": "code",
   "execution_count": 3,
   "metadata": {},
   "outputs": [],
   "source": [
    "# Define the features and target variable\n",
    "df['datetime'] = pd.to_datetime(df['datetime'])\n",
    "df['hour'] = df['datetime'].dt.hour\n",
    "df['day'] = df['datetime'].dt.day\n",
    "df['month'] = df['datetime'].dt.month\n",
    "df['day_of_week'] = df['datetime'].dt.dayofweek\n",
    "df['year'] = df['datetime'].dt.year\n",
    "features = [\n",
    "  col for col in df.columns if col not in ['datetime', 'price_log', 'price_boxcox', 'timezone']]\n",
    "target = 'price_log'\n",
    "\n",
    "# Select the features and target from the dataframe\n",
    "X = df[features]\n",
    "y = df[target]\n",
    "\n",
    "# Optional: Convert categorical features to dummy variables\n",
    "X = pd.get_dummies(X, drop_first=True)\n"
   ]
  },
  {
   "cell_type": "code",
   "execution_count": 4,
   "metadata": {},
   "outputs": [],
   "source": [
    "#Splitting the dataset into training data and testing data\n",
    "X_train, X_test, y_train, y_test = train_test_split(X, y, test_size=0.2, random_state=42)\n"
   ]
  },
  {
   "cell_type": "code",
   "execution_count": 5,
   "metadata": {},
   "outputs": [
    {
     "name": "stdout",
     "output_type": "stream",
     "text": [
      "Training Duration:1.165724277496338 seconds\n",
      "Best Hyperparameters:\n",
      "{'fit_intercept': True, 'positive': True}\n",
      "Cross-Validation Scores:\n",
      "Mean Score: 0.0178, Std Dev: 0.0068 for {'fit_intercept': True, 'positive': False}\n",
      "Mean Score: 0.0168, Std Dev: 0.0057 for {'fit_intercept': True, 'positive': True}\n",
      "Mean Score: 0.0178, Std Dev: 0.0068 for {'fit_intercept': False, 'positive': False}\n",
      "Mean Score: 0.0168, Std Dev: 0.0057 for {'fit_intercept': False, 'positive': True}\n"
     ]
    }
   ],
   "source": [
    "#Training the model\n",
    "# Define the model\n",
    "model = LinearRegression()\n",
    "\n",
    "# Define hyperparameters to tune\n",
    "param_grid = {\n",
    "    'fit_intercept': [True, False],\n",
    "    'positive': [False, True]\n",
    "}\n",
    "\n",
    "# Perform Grid Search with 5-fold cross-validation\n",
    "grid_search = GridSearchCV(estimator=model, param_grid=param_grid, scoring='neg_mean_squared_error', cv=5)\n",
    "\n",
    "#Measuring the training time\n",
    "start_time = time.time() #Record the start time\n",
    "grid_search.fit(X_train, y_train) #Fitting the model\n",
    "end_time = time.time() #Record the end time\n",
    "\n",
    "#Calculate the duration for training\n",
    "training_duration = end_time - start_time\n",
    "print(f\"Training Duration:{training_duration} seconds\")\n",
    "\n",
    "# Print the best hyperparameters found\n",
    "print(\"Best Hyperparameters:\")\n",
    "print(grid_search.best_params_)\n",
    "\n",
    "# Get the best model\n",
    "best_model = grid_search.best_estimator_\n",
    "\n",
    "# Get cross-validation scores\n",
    "cv_results = grid_search.cv_results_\n",
    "\n",
    "# Extract mean test scores for each parameter combination\n",
    "mean_test_scores = cv_results['mean_test_score']\n",
    "std_test_scores = cv_results['std_test_score']\n",
    "\n",
    "# Print the cross-validation scores\n",
    "print(\"Cross-Validation Scores:\")\n",
    "for mean, std, params in zip(mean_test_scores, std_test_scores, cv_results['params']):\n",
    "    print(f\"Mean Score: {-mean:.4f}, Std Dev: {std:.4f} for {params}\")"
   ]
  },
  {
   "cell_type": "code",
   "execution_count": 6,
   "metadata": {},
   "outputs": [],
   "source": [
    "#Testing the model\n",
    "y_pred = best_model.predict(X_test)\n"
   ]
  },
  {
   "cell_type": "code",
   "execution_count": 7,
   "metadata": {},
   "outputs": [
    {
     "name": "stdout",
     "output_type": "stream",
     "text": [
      "Mean Absolute Error (MAE): 0.08296233945567699\n",
      "Root Mean Squared Error (RMSE): 0.11680026087606915\n",
      "Mean Squared Error(MSE):0.013642300940717809\n",
      "Mean Absolute Percentage Error (MAPE): 3.249988044144709%\n",
      "Explained Variance Score: 0.9379623710455559\n",
      "Adjusted R-squared: 0.5648623446327722\n",
      "R-squared:0.9378374778046817\n"
     ]
    }
   ],
   "source": [
    "#Evaluating the model\n",
    "\n",
    "\n",
    "# 1. Mean Absolute Error (MAE)\n",
    "mae = mean_absolute_error(y_test, y_pred)\n",
    "print(f'Mean Absolute Error (MAE): {mae}')\n",
    "\n",
    "# 2. Root Mean Squared Error (RMSE)\n",
    "mse = mean_squared_error(y_test, y_pred)\n",
    "rmse = np.sqrt(mse)\n",
    "\n",
    "print(f'Root Mean Squared Error (RMSE): {rmse}')\n",
    "print(f'Mean Squared Error(MSE):{mse}')\n",
    "\n",
    "# 3. Mean Absolute Percentage Error (MAPE)\n",
    "mape = np.mean(np.abs((y_test - y_pred) / y_test)) * 100\n",
    "print(f'Mean Absolute Percentage Error (MAPE): {mape}%')\n",
    "\n",
    "# 4. Explained Variance Score\n",
    "explained_variance = explained_variance_score(y_test, y_pred)\n",
    "print(f'Explained Variance Score: {explained_variance}')\n",
    "\n",
    "# 5. Adjusted R-squared (Adjusted R²)\n",
    "n = len(y_test)  # number of samples\n",
    "p = X_test.shape[1]  # number of predictors\n",
    "r2 = r2_score(y_test, y_pred)\n",
    "adjusted_r2 = 1 - (1 - r2) * (n - 1) / (n - p - 1)\n",
    "print(f'Adjusted R-squared: {adjusted_r2}')\n",
    "print(f'R-squared:{r2}')\n",
    "\n"
   ]
  }
 ],
 "metadata": {
  "kernelspec": {
   "display_name": "Python 3",
   "language": "python",
   "name": "python3"
  },
  "language_info": {
   "codemirror_mode": {
    "name": "ipython",
    "version": 3
   },
   "file_extension": ".py",
   "mimetype": "text/x-python",
   "name": "python",
   "nbconvert_exporter": "python",
   "pygments_lexer": "ipython3",
   "version": "3.12.5"
  }
 },
 "nbformat": 4,
 "nbformat_minor": 2
}
